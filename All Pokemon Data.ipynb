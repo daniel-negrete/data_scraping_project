{
 "cells": [
  {
   "cell_type": "code",
   "execution_count": 5,
   "id": "f1c23eae",
   "metadata": {},
   "outputs": [],
   "source": [
    "import requests\n",
    "from bs4 import BeautifulSoup\n",
    "import re\n",
    "import csv\n",
    "\n",
    "\n",
    "#create a function\n",
    "def scrape_pokemon_stats(url):\n",
    "    # Send a GET request to the URL\n",
    "    page = requests.get(url)\n",
    "    \n",
    "    #check to see if the page exists\n",
    "    if page.status_code == 200:\n",
    "        # Parse the HTML content of the page\n",
    "        soup = BeautifulSoup(page.content, \"html.parser\")\n",
    "        results = soup.find(id=\"content\")\n",
    "        \n",
    "        #parse and remove <b> </b> from the text to make it easier to extract needed text\n",
    "        for b_tag in soup.find_all(\"b\"):\n",
    "            b_tag.unwrap()\n",
    "        \n",
    "        #find elements by ID table and class dextable - cleans html\n",
    "        job_elements = results.find_all(\"table\", class_=\"dextable\")\n",
    "        \n",
    "        #find elements with ID td and class fooben - identifies \"bold\" columns from webpage\n",
    "        fooben_elements = results.find_all(\"td\", class_=\"fooben\")\n",
    "\n",
    "        # Change the class attribute of each element to \"fooinfo\"\n",
    "        for element in fooben_elements:\n",
    "            element[\"class\"] = [\"fooinfo\"]\n",
    "\n",
    "        \n",
    "        #create list\n",
    "        csv_data = []\n",
    "        \n",
    "        #find elements by ID td and class fooinfo\n",
    "        pokemon = results.find_all(\"td\", class_=\"fooinfo\")\n",
    "        \n",
    "        #take the data and append to list\n",
    "        \n",
    "        for job_element in pokemon:\n",
    "            title_text = job_element.get_text(strip=True)\n",
    "            csv_data.append([title_text])\n",
    "    \n",
    "       \n",
    "        \n",
    "        #create a sublists to divide our data into the proper groupings\n",
    "        \n",
    "        sublists = [[]]\n",
    "\n",
    "# Iterate through each sublist in csv_data\n",
    "        for sublist in csv_data:\n",
    "    # Iterate through each item in the sublist\n",
    "            for item in sublist:\n",
    "        # Check if the item starts with a \"#\" followed by three digits\n",
    "                if re.match(r'#\\d{3}', item):\n",
    "                    sublists.append([item])  # Start a new sublist\n",
    "                else:\n",
    "                    sublists[-1].append(item)  # Add the item to the current sublist\n",
    "\n",
    "       \n",
    "\n",
    "\n",
    "        #output file to a csv and print if successful\n",
    "        csv_file_name = f\"pokemon_stats_{url.split('/')[-1].split('.')[0]}.csv\"\n",
    "        with open(csv_file_name, mode='w', newline='') as file:\n",
    "            writer = csv.writer(file)\n",
    "            writer.writerows(sublists)\n",
    "        print(f\"Data exported to {csv_file_name}\")\n",
    "   \n",
    "\n"
   ]
  },
  {
   "cell_type": "code",
   "execution_count": 6,
   "id": "49db6522",
   "metadata": {},
   "outputs": [
    {
     "name": "stdout",
     "output_type": "stream",
     "text": [
      "Data exported to pokemon_stats_hp.csv\n",
      "Data exported to pokemon_stats_attack.csv\n",
      "Data exported to pokemon_stats_defense.csv\n",
      "Data exported to pokemon_stats_speed.csv\n",
      "Data exported to pokemon_stats_sp-attack.csv\n",
      "Data exported to pokemon_stats_sp-defense.csv\n",
      "Data exported to pokemon_stats_all.csv\n"
     ]
    }
   ],
   "source": [
    "# urls that we need to pull data from\n",
    "\n",
    "urls = [\n",
    "    \"https://www.serebii.net/pokedex-sv/stat/hp.shtml\",\n",
    "    \"https://www.serebii.net/pokedex-sv/stat/attack.shtml\",\n",
    "    \"https://www.serebii.net/pokedex-sv/stat/defense.shtml\",\n",
    "    \"https://www.serebii.net/pokedex-sv/stat/speed.shtml\",\n",
    "    \"https://www.serebii.net/pokedex-sv/stat/sp-attack.shtml\",\n",
    "    \"https://www.serebii.net/pokedex-sv/stat/sp-defense.shtml\",\n",
    "    \"https://www.serebii.net/pokedex-sv/stat/all.shtml\"\n",
    "]\n",
    "\n",
    "# Scrape data for each URL\n",
    "for url in urls:\n",
    "    scrape_pokemon_stats(url)"
   ]
  },
  {
   "cell_type": "code",
   "execution_count": null,
   "id": "1408b1e3",
   "metadata": {},
   "outputs": [],
   "source": []
  },
  {
   "cell_type": "code",
   "execution_count": null,
   "id": "d2dde04d",
   "metadata": {},
   "outputs": [],
   "source": []
  }
 ],
 "metadata": {
  "kernelspec": {
   "display_name": "Python 3",
   "language": "python",
   "name": "python3"
  },
  "language_info": {
   "codemirror_mode": {
    "name": "ipython",
    "version": 3
   },
   "file_extension": ".py",
   "mimetype": "text/x-python",
   "name": "python",
   "nbconvert_exporter": "python",
   "pygments_lexer": "ipython3",
   "version": "3.8.8"
  }
 },
 "nbformat": 4,
 "nbformat_minor": 5
}
